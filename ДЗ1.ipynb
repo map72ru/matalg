{
  "nbformat": 4,
  "nbformat_minor": 0,
  "metadata": {
    "colab": {
      "name": "ДЗ1.ipynb",
      "provenance": [],
      "collapsed_sections": [],
      "authorship_tag": "ABX9TyO45AqmkWoElMxuE0nlSfBN",
      "include_colab_link": true
    },
    "kernelspec": {
      "name": "python3",
      "display_name": "Python 3"
    },
    "language_info": {
      "name": "python"
    }
  },
  "cells": [
    {
      "cell_type": "markdown",
      "metadata": {
        "id": "view-in-github",
        "colab_type": "text"
      },
      "source": [
        "<a href=\"https://colab.research.google.com/github/map72ru/matalg/blob/main/%D0%94%D0%971.ipynb\" target=\"_parent\"><img src=\"https://colab.research.google.com/assets/colab-badge.svg\" alt=\"Open In Colab\"/></a>"
      ]
    },
    {
      "cell_type": "code",
      "metadata": {
        "id": "GLShQ7sykcyk"
      },
      "source": [
        "import numpy as nm\n",
        "\n",
        "\n",
        "class GradientDescend:\n",
        "\n",
        "    def __init__(self):\n",
        "        self.__alfa = 1e-4\n",
        "        self.__iteration = 2000\n",
        "        self.__err = 0\n",
        "        self.__epsilon = 820\n",
        "\n",
        "    def set_alpha(self, new_value):\n",
        "        self.__alfa= new_value\n",
        "\n",
        "    def get_alpha(self):\n",
        "        return self.__alfa\n",
        "\n",
        "    def set_iteration(self, new_value):\n",
        "        self.__iteration = new_value\n",
        "\n",
        "    def calc_mse(self, y, y_pred):\n",
        "        return nm.mean((y-y_pred)**2)\n",
        "\n",
        "    @property\n",
        "    def get_err(self):\n",
        "        return self.__err\n",
        "\n",
        "    def set_epsilon(self, new_value):\n",
        "        self.__epsilon = new_value\n",
        "\n",
        "    def run(self, X, y):\n",
        "        n = X.shape[1]\n",
        "        W = nm.array([1.0, 0.5])\n",
        "        for i in range(self.__iteration):\n",
        "            y_pred = nm.dot(W, X)\n",
        "            self.__err = self.calc_mse(y, y_pred)\n",
        "            for ii in range(W.shape[0]):\n",
        "                W[ii] -= self.__alfa*(1/n * 2 * nm.sum(X[ii] * (y_pred - y)))\n",
        "        return W"
      ],
      "execution_count": 1,
      "outputs": []
    },
    {
      "cell_type": "code",
      "metadata": {
        "colab": {
          "base_uri": "https://localhost:8080/"
        },
        "id": "IMkH-rnNk3hz",
        "outputId": "7a002824-24d8-4e39-e6b8-6d36f5b7a76e"
      },
      "source": [
        "X = nm.array([[1, 1, 1, 1, 1, 1, 1, 1, 1, 1], [1, 1, 2, 1, 3, 0, 5, 10, 1, 2]])\n",
        "y = nm.array([45, 55, 50, 59, 65, 35, 75, 80, 50, 60])\n",
        "\n",
        "alg = GradientDescend()\n",
        "\n",
        "err_pred = 0\n",
        "min_delta = 1\n",
        "for iter in range(1000, 50000, 200):\n",
        "    alg.set_iteration(iter)\n",
        "    W = alg.run(X, y)\n",
        "    delta = alg.get_err-err_pred\n",
        "#    print(W, alg.get_err, delta)\n",
        "    if (abs(delta) < min_delta):\n",
        "        print(f\"Optimal iteration: {iter}\")\n",
        "        alg.set_iteration(iter)\n",
        "        break\n",
        "    err_pred = alg.get_err\n",
        "\n",
        "err_pred = 0\n",
        "for alf in range(100, 1000, 10):\n",
        "    alg.set_alpha(1/alf)\n",
        "    W = alg.run(X, y)\n",
        "    if (err_pred > min_delta):\n",
        "        print(f\"Optimal alf: {alg.get_alpha()}\")\n",
        "        break\n",
        "    err_pred = alg.get_err\n"
      ],
      "execution_count": 2,
      "outputs": [
        {
          "output_type": "stream",
          "text": [
            "Optimal iteration: 18400\n",
            "Optimal alf: 0.00909090909090909\n"
          ],
          "name": "stdout"
        }
      ]
    },
    {
      "cell_type": "markdown",
      "metadata": {
        "id": "2AewKr7FoYcI"
      },
      "source": [
        "Правильная реализация метода с расчетом через умножение матриц (дает тот же результат)"
      ]
    },
    {
      "cell_type": "code",
      "metadata": {
        "id": "kMiHertcoXaN"
      },
      "source": [
        "    def run2(self, X, y):\n",
        "        n = X.shape[1]\n",
        "        W = nm.array([1.0, 0.5])\n",
        "        for i in range(self.__iteration):\n",
        "            y_pred = nm.dot(W, X)\n",
        "            self.__err = self.calc_mse(y, y_pred)\n",
        "            W -= (self.__alfa * 1/n * 2 * nm.dot(X, (nm.dot(X.T, W) - y)))\n",
        "        return W"
      ],
      "execution_count": null,
      "outputs": []
    }
  ]
}